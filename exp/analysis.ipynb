{
 "cells": [
  {
   "cell_type": "code",
   "execution_count": 1,
   "metadata": {
    "collapsed": true
   },
   "outputs": [],
   "source": [
    "import  numpy as np\n",
    "import  pandas as pd\n",
    "from utils import EntityIndexer, SearchEngine, VecStore"
   ]
  },
  {
   "cell_type": "code",
   "execution_count": 2,
   "outputs": [],
   "source": [
    "prod_index = EntityIndexer('prod')\n",
    "token_index = EntityIndexer('token')\n",
    "prod_index.load()\n",
    "token_index.load()"
   ],
   "metadata": {
    "collapsed": false,
    "pycharm": {
     "name": "#%%\n"
    }
   }
  },
  {
   "cell_type": "code",
   "execution_count": 3,
   "outputs": [
    {
     "data": {
      "text/plain": "49688"
     },
     "execution_count": 3,
     "metadata": {},
     "output_type": "execute_result"
    }
   ],
   "source": [
    "len(prod_index.entity2ind)"
   ],
   "metadata": {
    "collapsed": false,
    "pycharm": {
     "name": "#%%\n"
    }
   }
  },
  {
   "cell_type": "code",
   "execution_count": 40,
   "outputs": [],
   "source": [
    "vec = VecStore('insta_context')"
   ],
   "metadata": {
    "collapsed": false,
    "pycharm": {
     "name": "#%%\n"
    }
   }
  },
  {
   "cell_type": "code",
   "execution_count": 41,
   "outputs": [],
   "source": [
    "engine = SearchEngine(vec, prod_index)"
   ],
   "metadata": {
    "collapsed": false,
    "pycharm": {
     "name": "#%%\n"
    }
   }
  },
  {
   "cell_type": "code",
   "execution_count": 47,
   "outputs": [
    {
     "name": "stdout",
     "output_type": "stream",
     "text": [
      "product_id\n",
      "28839                                   Ziti Rigati\n",
      "28839                                   Ziti Rigati\n",
      "7690                                           Orzo\n",
      "32974                                     Cavatappi\n",
      "38634        Medium Shells No. 22 Enriched Macaroni\n",
      "11799                 Roasted Garlic Marinara Sauce\n",
      "2357               Elbows Enriched Macaroni Product\n",
      "18981                                          Ziti\n",
      "32237                              Campanelle Pasta\n",
      "45726    Kosher Whole Wheat Penne Ziti Rigate Pasta\n",
      "43917                              Homemade Fusilli\n",
      "Name: product_name, dtype: object\n",
      "product_id\n",
      "28839                                 Ziti Rigati\n",
      "29438            Reduced Fat Monterey Jack Cheese\n",
      "15872                               Celery Hearts\n",
      "14852                  All Natural Marinara Sauce\n",
      "17666                                  Fettuccine\n",
      "9366                       Penne Rigate #41 Pasta\n",
      "40663                     Ricotta Original Cheese\n",
      "1447                        Organic Baby Lettuces\n",
      "6193     Organic Fancy Shredded Mozzarella Cheese\n",
      "38471                   Protein Plus Rotini Pasta\n",
      "23801                              Fusilli No. 34\n",
      "Name: product_name, dtype: object\n"
     ]
    }
   ],
   "source": [
    "id_ = 28839\n",
    "print(engine.display_sim(id_))\n",
    "print(engine.display_comp(id_))"
   ],
   "metadata": {
    "collapsed": false,
    "pycharm": {
     "name": "#%%\n"
    }
   }
  },
  {
   "cell_type": "code",
   "execution_count": 32,
   "outputs": [],
   "source": [],
   "metadata": {
    "collapsed": false,
    "pycharm": {
     "name": "#%%\n"
    }
   }
  },
  {
   "cell_type": "code",
   "execution_count": null,
   "outputs": [],
   "source": [],
   "metadata": {
    "collapsed": false,
    "pycharm": {
     "name": "#%%\n"
    }
   }
  }
 ],
 "metadata": {
  "kernelspec": {
   "display_name": "Python 3",
   "language": "python",
   "name": "python3"
  },
  "language_info": {
   "codemirror_mode": {
    "name": "ipython",
    "version": 2
   },
   "file_extension": ".py",
   "mimetype": "text/x-python",
   "name": "python",
   "nbconvert_exporter": "python",
   "pygments_lexer": "ipython2",
   "version": "2.7.6"
  }
 },
 "nbformat": 4,
 "nbformat_minor": 0
}