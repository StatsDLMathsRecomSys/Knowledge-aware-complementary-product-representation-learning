{
 "cells": [
  {
   "cell_type": "code",
   "execution_count": 4,
   "metadata": {
    "collapsed": true
   },
   "outputs": [],
   "source": [
    "import  pandas as pd\n",
    "from utils import ProdParser, EntityIndexer"
   ]
  },
  {
   "cell_type": "code",
   "execution_count": 5,
   "outputs": [],
   "source": [
    "order_prod_temp1 = pd.read_csv('../data/instacart/order_products__prior.csv')\n",
    "order_prod_temp2 = pd.read_csv('../data/instacart/order_products__train.csv')\n",
    "order_prod = pd.concat([order_prod_temp1, order_prod_temp2], axis=0)\n",
    "\n",
    "order_info = pd.read_csv('../data/instacart/orders.csv')[['order_id', 'user_id']]\n",
    "order_prod = pd.merge(left=order_prod, right=order_info, on='order_id')\n",
    "aisle = pd.read_csv('../data/instacart/aisles.csv')\n",
    "dept = pd.read_csv('../data/instacart/departments.csv')\n",
    "prod_info = pd.read_csv('../data/instacart/products.csv')\n",
    "prod_info = pd.merge(prod_info, aisle, on='aisle_id')\n",
    "prod_info = pd.merge(prod_info, dept, on='department_id')\n",
    "prod_info['product_name'] = prod_info['product_name'] + ' ' + prod_info['aisle'] + ' ' + prod_info['department']"
   ],
   "metadata": {
    "collapsed": false,
    "pycharm": {
     "name": "#%%\n"
    }
   }
  },
  {
   "cell_type": "code",
   "execution_count": 6,
   "outputs": [],
   "source": [
    "prod_cnt = order_prod.groupby('product_id')['order_id'].count().reset_index(name='count')\n",
    "pop_prod = prod_cnt[prod_cnt['count'] >= 10]['product_id'].to_frame()"
   ],
   "metadata": {
    "collapsed": false,
    "pycharm": {
     "name": "#%%\n"
    }
   }
  },
  {
   "cell_type": "code",
   "execution_count": 7,
   "outputs": [],
   "source": [
    "tokenizer = ProdParser()\n",
    "parsed_prod_info = prod_info.copy()\n",
    "parsed_prod_info['tokens'] = prod_info['product_name'].map(lambda x: tokenizer.process(x))\n",
    "parsed_prod_info = parsed_prod_info[parsed_prod_info['tokens'].map(lambda x: len(x)) > 0]"
   ],
   "metadata": {
    "collapsed": false,
    "pycharm": {
     "name": "#%%\n"
    }
   }
  },
  {
   "cell_type": "code",
   "execution_count": 8,
   "outputs": [],
   "source": [
    "# only consider product with at least 10 purchase and context is valid\n",
    "valid_prod_order = pd.merge(left=order_prod, right=pop_prod, on='product_id')\n",
    "valid_prod_order = pd.merge(left=valid_prod_order, right=parsed_prod_info['product_id'].to_frame(), on='product_id')\n",
    "\n",
    "# order size needs >= 2\n",
    "order_size = valid_prod_order.groupby('order_id')['product_id'].count().reset_index(name='size')\n",
    "valid_order = order_size[order_size['size'] >= 2]['order_id'].to_frame()\n",
    "valid_prod_order = pd.merge(left=valid_prod_order, right=valid_order, on='order_id')\n",
    "\n",
    "# valid_prod_id = valid_prod_order['product_id'].drop_duplicates()\n",
    "# valid_prod_info = pd.merge(left=prod_info, right=valid_prod_id, on='product_id')"
   ],
   "metadata": {
    "collapsed": false,
    "pycharm": {
     "name": "#%%\n"
    }
   }
  },
  {
   "cell_type": "code",
   "execution_count": 9,
   "outputs": [],
   "source": [
    "prod_indexer = EntityIndexer('prod')\n",
    "token_indexer = EntityIndexer('token')\n",
    "user_indexer = EntityIndexer('user')\n",
    "\n",
    "_ = parsed_prod_info['tokens'].map(lambda x: token_indexer.index(x))\n",
    "_ = parsed_prod_info['product_id'].map(lambda x: prod_indexer.index(x))\n",
    "_ = valid_prod_order['user_id'].map(lambda x: user_indexer.index(x))"
   ],
   "metadata": {
    "collapsed": false,
    "pycharm": {
     "name": "#%%\n"
    }
   }
  },
  {
   "cell_type": "code",
   "execution_count": 10,
   "outputs": [],
   "source": [
    "prod_indexer.save()\n",
    "token_indexer.save()\n",
    "user_indexer.save()"
   ],
   "metadata": {
    "collapsed": false,
    "pycharm": {
     "name": "#%%\n"
    }
   }
  },
  {
   "cell_type": "code",
   "execution_count": 11,
   "outputs": [],
   "source": [
    "#dump context into files\n",
    "with open('../data/instacart/ml_context.tsv', 'w') as f:\n",
    "    for id_, tokens in zip(parsed_prod_info['product_id'], parsed_prod_info['tokens']):\n",
    "        line = [prod_indexer.entity2ind[id_]]\n",
    "        for t in tokens:\n",
    "            line.append(token_indexer.entity2ind[t])\n",
    "        f.write('\\t'.join([str(t) for t in line]) + '\\n')\n"
   ],
   "metadata": {
    "collapsed": false,
    "pycharm": {
     "name": "#%%\n"
    }
   }
  },
  {
   "cell_type": "code",
   "execution_count": 12,
   "outputs": [
    {
     "name": "stdout",
     "output_type": "stream",
     "text": [
      "collecting order info\n"
     ]
    }
   ],
   "source": [
    "#now dump the order\n",
    "from collections import defaultdict\n",
    "basket = defaultdict(list)\n",
    "print('collecting order info')\n",
    "for order_id, product_id, atc_order, user_id in zip(valid_prod_order['order_id'],\n",
    "                                           valid_prod_order['product_id'],\n",
    "                                           valid_prod_order['add_to_cart_order'],\n",
    "                                           valid_prod_order['user_id']):\n",
    "    basket[(order_id, user_id)].append((atc_order, product_id))\n",
    "basket = {k:sorted(v) for k, v in basket.items()}\n"
   ],
   "metadata": {
    "collapsed": false,
    "pycharm": {
     "name": "#%%\n"
    }
   }
  },
  {
   "cell_type": "code",
   "execution_count": 13,
   "outputs": [
    {
     "name": "stdout",
     "output_type": "stream",
     "text": [
      "dumping data into file\n"
     ]
    }
   ],
   "source": [
    "print('dumping data into file')\n",
    "with open('../data/instacart/ml_history.tsv', 'w') as f:\n",
    "    for (order_id, user_id), order_detail in basket.items():\n",
    "        product_list = [prod_indexer.entity2ind[x[1]] for x in order_detail]\n",
    "        ts_list = [x[0] for x in order_detail]\n",
    "        line = str(user_indexer.entity2ind[user_id]) + '\\t' + \\\n",
    "               ','.join([str(x) for x in ts_list]) + '\\t' \\\n",
    "               + ','.join([str(x) for x in product_list]) + '\\n'\n",
    "        f.write(line)"
   ],
   "metadata": {
    "collapsed": false,
    "pycharm": {
     "name": "#%%\n"
    }
   }
  },
  {
   "cell_type": "code",
   "execution_count": 13,
   "outputs": [],
   "source": [],
   "metadata": {
    "collapsed": false,
    "pycharm": {
     "name": "#%%\n"
    }
   }
  }
 ],
 "metadata": {
  "kernelspec": {
   "display_name": "Python 3",
   "language": "python",
   "name": "python3"
  },
  "language_info": {
   "codemirror_mode": {
    "name": "ipython",
    "version": 2
   },
   "file_extension": ".py",
   "mimetype": "text/x-python",
   "name": "python",
   "nbconvert_exporter": "python",
   "pygments_lexer": "ipython2",
   "version": "2.7.6"
  }
 },
 "nbformat": 4,
 "nbformat_minor": 0
}